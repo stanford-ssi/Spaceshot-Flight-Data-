{
 "cells": [
  {
   "cell_type": "code",
   "execution_count": 7,
   "metadata": {},
   "outputs": [
    {
     "data": {
      "text/plain": [
       "[<matplotlib.lines.Line2D at 0x25f8b3e3af0>]"
      ]
     },
     "execution_count": 7,
     "metadata": {},
     "output_type": "execute_result"
    },
    {
     "data": {
      "image/png": "[encoded data removed]",
      "text/plain": [
       "<Figure size 432x288 with 2 Axes>"
      ]
     },
     "metadata": {
      "needs_background": "light"
     },
     "output_type": "display_data"
    }
   ],
   "source": [
    "import json\n",
    "import sys\n",
    "#%matplotlib notebook\n",
    "import matplotlib.pyplot as plt\n",
    "file = open(\"15-2-2020-trim.txt\")\n",
    "def flatten(data, prefix=\"\"):\n",
    "    flat = dict()\n",
    "    if isinstance(data,dict):\n",
    "        if prefix:\n",
    "            prefix += \".\"\n",
    "        for k,v in data.items():\n",
    "            flat.update(flatten(v, prefix + str(k)))\n",
    "        return flat;\n",
    "    if isinstance(data,list):\n",
    "        if prefix:\n",
    "            prefix += \".\"\n",
    "        i = 0;\n",
    "        for v in data:\n",
    "            flat.update(flatten(v, prefix + str(i)))\n",
    "            i += 1\n",
    "        return flat\n",
    "    return {prefix:data}\n",
    "json_body = []\n",
    "id = []\n",
    "stack = []\n",
    "bat = {\"cellA\":[],\"cellB\":[]}\n",
    "for line in file:\n",
    "    try:\n",
    "        data = json.loads(line)\n",
    "        if data[\"id\"] == \"sensor\":\n",
    "            try:\n",
    "                flat = flatten(data)\n",
    "                flat[\"id\"] = 0.0 #Need to handle enumerated states!\n",
    "                flt = dict()\n",
    "                for key in flat:\n",
    "                    flt[key] = float(flat[key])\n",
    "                json_body += [flt]\n",
    "            except KeyError:\n",
    "                print('keyError')\n",
    "                print(line)\n",
    "        #if data[u\"id\"] == u\"status\":\n",
    "            #tick_stat.append(data[u\"tick\"])\n",
    "            #bat[\"cell\"].append(data[u'bat'][u\"cell\"])\n",
    "    except ValueError:\n",
    "        print('line not JSON')\n",
    "file.close()\n",
    "data = [[data[key] for data in json_body] for key in [\"tick\",\"adxl1.a.0\",\"adxl1.a.1\"]]\n",
    "#%matplotlib\n",
    "fig, ax1 = plt.subplots()\n",
    "data[0] = [(a)/1000 for a in data[0]]\n",
    "#plt.plot(data[0],data[1])\n",
    "plt.plot(data[0],data[2])\n",
    "#plt.plot(sim[0],sim[2])\n",
    "ax2 = ax1.twinx()\n",
    "ax2.plot(data[0],data[2])\n",
    "#plt.plot(data[0],data[3])\n",
    "#plt.plot(data[0],data[4])"
   ]
  },
  {
   "cell_type": "code",
   "execution_count": null,
   "metadata": {},
   "outputs": [],
   "source": []
  },
  {
   "cell_type": "code",
   "execution_count": null,
   "metadata": {},
   "outputs": [],
   "source": []
  },
  {
   "cell_type": "code",
   "execution_count": null,
   "metadata": {},
   "outputs": [],
   "source": []
  },
  {
   "cell_type": "code",
   "execution_count": null,
   "metadata": {},
   "outputs": [],
   "source": []
  }
 ],
 "metadata": {
  "kernelspec": {
   "display_name": "Python 3",
   "language": "python",
   "name": "python3"
  },
  "language_info": {
   "codemirror_mode": {
    "name": "ipython",
    "version": 3
   },
   "file_extension": ".py",
   "mimetype": "text/x-python",
   "name": "python",
   "nbconvert_exporter": "python",
   "pygments_lexer": "ipython3",
   "version": "3.8.1"
  }
 },
 "nbformat": 4,
 "nbformat_minor": 4
}
